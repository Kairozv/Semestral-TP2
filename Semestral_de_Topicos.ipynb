{
 "cells": [
  {
   "cell_type": "code",
   "execution_count": 3,
   "id": "61e5bcb7",
   "metadata": {},
   "outputs": [],
   "source": [
    "import dash\n",
    "import dash_core_components as dcc\n",
    "import dash_html_components as html\n",
    "import pandas as pd\n",
    "from datetime import date\n",
    "import matplotlib.pyplot as plt\n",
    "\n",
    "from mpl_toolkits.axes_grid1 import make_axes_locatable\n",
    "import numpy as np \n",
    "import re\n",
    "import seaborn as sns\n",
    "from shapely.geometry import Point, Polygon\n",
    "from shapely.geometry import MultiPolygon\n",
    "import folium\n",
    "\n",
    "import plotly.graph_objs as go  \n",
    "import plotly.express as px"
   ]
  },
  {
   "cell_type": "code",
   "execution_count": 4,
   "id": "5eca2e94",
   "metadata": {},
   "outputs": [
    {
     "data": {
      "text/html": [
       "<div>\n",
       "<style scoped>\n",
       "    .dataframe tbody tr th:only-of-type {\n",
       "        vertical-align: middle;\n",
       "    }\n",
       "\n",
       "    .dataframe tbody tr th {\n",
       "        vertical-align: top;\n",
       "    }\n",
       "\n",
       "    .dataframe thead th {\n",
       "        text-align: right;\n",
       "    }\n",
       "</style>\n",
       "<table border=\"1\" class=\"dataframe\">\n",
       "  <thead>\n",
       "    <tr style=\"text-align: right;\">\n",
       "      <th></th>\n",
       "      <th>AggregationMethod</th>\n",
       "      <th>Date</th>\n",
       "      <th>Version</th>\n",
       "      <th>AirportName</th>\n",
       "      <th>PercentOfBaseline</th>\n",
       "      <th>Centroid</th>\n",
       "      <th>City</th>\n",
       "      <th>State</th>\n",
       "      <th>ISO_3166_2</th>\n",
       "      <th>Country</th>\n",
       "      <th>Geography</th>\n",
       "    </tr>\n",
       "  </thead>\n",
       "  <tbody>\n",
       "    <tr>\n",
       "      <th>1</th>\n",
       "      <td>Daily</td>\n",
       "      <td>2020-04-13</td>\n",
       "      <td>1.0</td>\n",
       "      <td>Kingsford Smith</td>\n",
       "      <td>29</td>\n",
       "      <td>POINT(151.180087713813 -33.9459774986125)</td>\n",
       "      <td>Sydney</td>\n",
       "      <td>New South Wales</td>\n",
       "      <td>AU</td>\n",
       "      <td>Australia</td>\n",
       "      <td>POLYGON((151.164354085922 -33.9301772341877, 1...</td>\n",
       "    </tr>\n",
       "    <tr>\n",
       "      <th>2</th>\n",
       "      <td>Daily</td>\n",
       "      <td>2020-07-10</td>\n",
       "      <td>1.0</td>\n",
       "      <td>Kingsford Smith</td>\n",
       "      <td>54</td>\n",
       "      <td>POINT(151.180087713813 -33.9459774986125)</td>\n",
       "      <td>Sydney</td>\n",
       "      <td>New South Wales</td>\n",
       "      <td>AU</td>\n",
       "      <td>Australia</td>\n",
       "      <td>POLYGON((151.164354085922 -33.9301772341877, 1...</td>\n",
       "    </tr>\n",
       "    <tr>\n",
       "      <th>3</th>\n",
       "      <td>Daily</td>\n",
       "      <td>2020-09-02</td>\n",
       "      <td>1.0</td>\n",
       "      <td>Kingsford Smith</td>\n",
       "      <td>18</td>\n",
       "      <td>POINT(151.180087713813 -33.9459774986125)</td>\n",
       "      <td>Sydney</td>\n",
       "      <td>New South Wales</td>\n",
       "      <td>AU</td>\n",
       "      <td>Australia</td>\n",
       "      <td>POLYGON((151.164354085922 -33.9301772341877, 1...</td>\n",
       "    </tr>\n",
       "    <tr>\n",
       "      <th>4</th>\n",
       "      <td>Daily</td>\n",
       "      <td>2020-10-31</td>\n",
       "      <td>1.0</td>\n",
       "      <td>Kingsford Smith</td>\n",
       "      <td>22</td>\n",
       "      <td>POINT(151.180087713813 -33.9459774986125)</td>\n",
       "      <td>Sydney</td>\n",
       "      <td>New South Wales</td>\n",
       "      <td>AU</td>\n",
       "      <td>Australia</td>\n",
       "      <td>POLYGON((151.164354085922 -33.9301772341877, 1...</td>\n",
       "    </tr>\n",
       "    <tr>\n",
       "      <th>5</th>\n",
       "      <td>Daily</td>\n",
       "      <td>2020-04-14</td>\n",
       "      <td>1.0</td>\n",
       "      <td>Kingsford Smith</td>\n",
       "      <td>59</td>\n",
       "      <td>POINT(151.180087713813 -33.9459774986125)</td>\n",
       "      <td>Sydney</td>\n",
       "      <td>New South Wales</td>\n",
       "      <td>AU</td>\n",
       "      <td>Australia</td>\n",
       "      <td>POLYGON((151.164354085922 -33.9301772341877, 1...</td>\n",
       "    </tr>\n",
       "  </tbody>\n",
       "</table>\n",
       "</div>"
      ],
      "text/plain": [
       "  AggregationMethod        Date  Version      AirportName  PercentOfBaseline  \\\n",
       "1             Daily  2020-04-13      1.0  Kingsford Smith                 29   \n",
       "2             Daily  2020-07-10      1.0  Kingsford Smith                 54   \n",
       "3             Daily  2020-09-02      1.0  Kingsford Smith                 18   \n",
       "4             Daily  2020-10-31      1.0  Kingsford Smith                 22   \n",
       "5             Daily  2020-04-14      1.0  Kingsford Smith                 59   \n",
       "\n",
       "                                    Centroid    City            State  \\\n",
       "1  POINT(151.180087713813 -33.9459774986125)  Sydney  New South Wales   \n",
       "2  POINT(151.180087713813 -33.9459774986125)  Sydney  New South Wales   \n",
       "3  POINT(151.180087713813 -33.9459774986125)  Sydney  New South Wales   \n",
       "4  POINT(151.180087713813 -33.9459774986125)  Sydney  New South Wales   \n",
       "5  POINT(151.180087713813 -33.9459774986125)  Sydney  New South Wales   \n",
       "\n",
       "  ISO_3166_2    Country                                          Geography  \n",
       "1         AU  Australia  POLYGON((151.164354085922 -33.9301772341877, 1...  \n",
       "2         AU  Australia  POLYGON((151.164354085922 -33.9301772341877, 1...  \n",
       "3         AU  Australia  POLYGON((151.164354085922 -33.9301772341877, 1...  \n",
       "4         AU  Australia  POLYGON((151.164354085922 -33.9301772341877, 1...  \n",
       "5         AU  Australia  POLYGON((151.164354085922 -33.9301772341877, 1...  "
      ]
     },
     "execution_count": 4,
     "metadata": {},
     "output_type": "execute_result"
    }
   ],
   "source": [
    "data = pd.read_csv('covid_impact_on_airport_traffic.csv')\n",
    "data = data.drop(index=0)\n",
    "data.head()"
   ]
  },
  {
   "cell_type": "code",
   "execution_count": 5,
   "id": "39217a39",
   "metadata": {},
   "outputs": [],
   "source": [
    "data[\"Date\"] = data[\"Date\"].map(lambda x: date.fromisoformat(x))"
   ]
  },
  {
   "cell_type": "code",
   "execution_count": 6,
   "id": "3e6d0505",
   "metadata": {},
   "outputs": [],
   "source": [
    "data[\"weekday\"] = data[\"Date\"].map(lambda x: x.weekday())\n",
    "w_list = ['Mon', 'Tue', 'Wed', 'Thu', 'Fri', 'Sat', 'Sun']\n",
    "data[\"weekday\"] = [w_list[idx] for idx in data[\"weekday\"]]"
   ]
  },
  {
   "cell_type": "code",
   "execution_count": 7,
   "id": "f1f90a2f",
   "metadata": {},
   "outputs": [],
   "source": [
    "def cut_long(point):\n",
    "    long, _ = point[6:-1].split(\" \")\n",
    "    return float(long)\n",
    "\n",
    "def cut_lat(point):\n",
    "    _, lat = point[6:-1].split(\" \")\n",
    "    return float(lat)"
   ]
  },
  {
   "cell_type": "code",
   "execution_count": 8,
   "id": "9712cad8",
   "metadata": {},
   "outputs": [],
   "source": [
    "data[\"long\"] = data[\"Centroid\"].map(cut_long)\n",
    "data[\"lat\"] = data[\"Centroid\"].map(cut_lat)"
   ]
  },
  {
   "cell_type": "code",
   "execution_count": 9,
   "id": "6198dda9",
   "metadata": {},
   "outputs": [
    {
     "name": "stdout",
     "output_type": "stream",
     "text": [
      "<class 'pandas.core.frame.DataFrame'>\n",
      "Int64Index: 7246 entries, 1 to 7246\n",
      "Data columns (total 14 columns):\n",
      " #   Column             Non-Null Count  Dtype  \n",
      "---  ------             --------------  -----  \n",
      " 0   AggregationMethod  7246 non-null   object \n",
      " 1   Date               7246 non-null   object \n",
      " 2   Version            7246 non-null   float64\n",
      " 3   AirportName        7246 non-null   object \n",
      " 4   PercentOfBaseline  7246 non-null   int64  \n",
      " 5   Centroid           7246 non-null   object \n",
      " 6   City               7246 non-null   object \n",
      " 7   State              7246 non-null   object \n",
      " 8   ISO_3166_2         7246 non-null   object \n",
      " 9   Country            7246 non-null   object \n",
      " 10  Geography          7246 non-null   object \n",
      " 11  weekday            7246 non-null   object \n",
      " 12  long               7246 non-null   float64\n",
      " 13  lat                7246 non-null   float64\n",
      "dtypes: float64(3), int64(1), object(10)\n",
      "memory usage: 849.1+ KB\n"
     ]
    }
   ],
   "source": [
    "data.info()"
   ]
  },
  {
   "cell_type": "code",
   "execution_count": 10,
   "id": "adce2829",
   "metadata": {},
   "outputs": [],
   "source": [
    "df_Country_count = pd.DataFrame(data[\"Country\"].value_counts())"
   ]
  },
  {
   "cell_type": "code",
   "execution_count": 11,
   "id": "77e1a3b7",
   "metadata": {},
   "outputs": [
    {
     "data": {
      "text/plain": [
       "United States of America (the)    4441\n",
       "Canada                            2311\n",
       "Australia                          256\n",
       "Chile                              238\n",
       "Name: Country, dtype: int64"
      ]
     },
     "execution_count": 11,
     "metadata": {},
     "output_type": "execute_result"
    }
   ],
   "source": [
    "df_Country_count[\"Country\"]"
   ]
  },
  {
   "cell_type": "code",
   "execution_count": 12,
   "id": "570b5112",
   "metadata": {},
   "outputs": [],
   "source": [
    "data_aux = data[~data[[\"AirportName\"]].duplicated()].reset_index(drop=True)"
   ]
  },
  {
   "cell_type": "code",
   "execution_count": 13,
   "id": "8e36309b",
   "metadata": {},
   "outputs": [],
   "source": [
    "fig3 = px.bar(data_aux, x = 'Country', y = \"AirportName\",color=\"Country\",title=\"Aereopuertos por pais\" )"
   ]
  },
  {
   "cell_type": "code",
   "execution_count": 14,
   "id": "bdedfc7f",
   "metadata": {},
   "outputs": [],
   "source": [
    "fig2 = px.bar(data_aux, x = 'AirportName', y = \"AirportName\",color=\"AirportName\",title=\"Aereopuertos distribuidos\" )"
   ]
  },
  {
   "cell_type": "code",
   "execution_count": 15,
   "id": "cda7cdf0",
   "metadata": {},
   "outputs": [],
   "source": [
    "df_month_count = pd.DataFrame(data[\"Date\"].map(lambda d: d.month).value_counts())\n",
    "df_month_count = df_month_count.reset_index()\n",
    "df_month_count = df_month_count.rename(columns={\"Date\":\"Cantidad\", \"index\":\"mes\"})\n",
    "fig4 = px.bar(df_month_count, y=\"Cantidad\", x= \"mes\", color=\"mes\", title=\"Candtidad de movimiento durante la pandemia por mes\")"
   ]
  },
  {
   "cell_type": "code",
   "execution_count": 19,
   "id": "e2cbf4c6",
   "metadata": {},
   "outputs": [
    {
     "name": "stdout",
     "output_type": "stream",
     "text": [
      "Dash is running on http://127.0.0.1:8050/\n",
      "\n",
      "Dash is running on http://127.0.0.1:8050/\n",
      "\n",
      "Dash is running on http://127.0.0.1:8050/\n",
      "\n",
      "Dash is running on http://127.0.0.1:8050/\n",
      "\n",
      " * Serving Flask app \"__main__\" (lazy loading)\n",
      " * Environment: production\n",
      "   WARNING: This is a development server. Do not use it in a production deployment.\n",
      "   Use a production WSGI server instead.\n",
      " * Debug mode: off\n"
     ]
    },
    {
     "name": "stderr",
     "output_type": "stream",
     "text": [
      " * Running on http://127.0.0.1:8050/ (Press CTRL+C to quit)\n",
      "127.0.0.1 - - [29/Jul/2021 05:03:25] \"\u001b[37mGET / HTTP/1.1\u001b[0m\" 200 -\n",
      "127.0.0.1 - - [29/Jul/2021 05:03:26] \"\u001b[37mGET /_dash-dependencies HTTP/1.1\u001b[0m\" 200 -\n",
      "127.0.0.1 - - [29/Jul/2021 05:03:26] \"\u001b[37mGET /_dash-layout HTTP/1.1\u001b[0m\" 200 -\n",
      "127.0.0.1 - - [29/Jul/2021 05:03:26] \"\u001b[37mGET /_dash-component-suites/dash_core_components/async-graph.js HTTP/1.1\u001b[0m\" 200 -\n",
      "127.0.0.1 - - [29/Jul/2021 05:03:26] \"\u001b[37mGET /_dash-component-suites/dash_core_components/async-plotlyjs.js HTTP/1.1\u001b[0m\" 200 -\n"
     ]
    }
   ],
   "source": [
    "external_stylesheets = ['https://codepen.io/chriddyp/pen/bWLwgP.css']\n",
    "\n",
    "app = dash.Dash(__name__, external_stylesheets=external_stylesheets)\n",
    "\n",
    "app.layout = html.Div(children=[\n",
    "    html.H1(children='Trafico Aereo Durante el Covid-19'),\n",
    "\n",
    "    html.Div(children='''\n",
    "        Dash: A web application framework for Python.\n",
    "    '''),\n",
    "\n",
    "    dcc.Graph(\n",
    "        id='example-graph',\n",
    "        figure={\n",
    "            'data': [\n",
    "                {'x': ['United States of America', 'Canada', 'Australia', 'Chile'],'type': 'bar','y':  df_Country_count[\"Country\"], \n",
    "                'type': 'line', 'name': 'SF'},\n",
    "            ],\n",
    "            'layout': {\n",
    "                'title': 'Movimiento en los aereopuertos durante el covid'}\n",
    "        }\n",
    "        \n",
    "    ),\n",
    "    dcc.Graph(figure=fig3),\n",
    "    \n",
    "    dcc.Graph(figure=fig2),\n",
    "    dcc.Graph(figure=fig4)\n",
    "])\n",
    "\n",
    "if __name__ == '__main__':\n",
    "    app.run_server(debug=False)"
   ]
  },
  {
   "cell_type": "code",
   "execution_count": null,
   "id": "e70e7c94",
   "metadata": {},
   "outputs": [],
   "source": []
  },
  {
   "cell_type": "code",
   "execution_count": null,
   "id": "93e38f70",
   "metadata": {},
   "outputs": [],
   "source": []
  }
 ],
 "metadata": {
  "kernelspec": {
   "display_name": "Python 3",
   "language": "python",
   "name": "python3"
  },
  "language_info": {
   "codemirror_mode": {
    "name": "ipython",
    "version": 3
   },
   "file_extension": ".py",
   "mimetype": "text/x-python",
   "name": "python",
   "nbconvert_exporter": "python",
   "pygments_lexer": "ipython3",
   "version": "3.8.8"
  }
 },
 "nbformat": 4,
 "nbformat_minor": 5
}
